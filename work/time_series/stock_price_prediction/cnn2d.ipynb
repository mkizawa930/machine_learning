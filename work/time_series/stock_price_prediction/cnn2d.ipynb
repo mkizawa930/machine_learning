{
 "cells": [
  {
   "cell_type": "markdown",
   "metadata": {},
   "source": [
    "# CNN2dで株価予測"
   ]
  },
  {
   "cell_type": "code",
   "execution_count": 459,
   "metadata": {},
   "outputs": [],
   "source": [
    "import os\n",
    "import random\n",
    "import pandas as pd\n",
    "import numpy as np\n",
    "\n",
    "\n",
    "from typing import List, Tuple\n",
    "from pylab import plt\n",
    "\n",
    "from sklearn.metrics import precision_score, recall_score\n",
    "from sklearn.preprocessing import StandardScaler"
   ]
  },
  {
   "cell_type": "code",
   "execution_count": 460,
   "metadata": {},
   "outputs": [],
   "source": [
    "# X = df.copy()\n",
    "# X['Target'] = (X['Close'].pct_change().shift(-1) > 0).astype(int)\n",
    "TRAIN_TEST_CUTOFF = '2016-04-21'\n",
    "TRAIN_VALID_RATIO = 0.75\n",
    "DATADIR = \"./Dataset\"\n",
    "\n",
    "data = {}\n",
    "for filename in os.listdir(DATADIR):\n",
    "    if not filename.lower().endswith(\".csv\"):\n",
    "        continue\n",
    "    filepath = os.path.join(DATADIR, filename)\n",
    "    X = pd.read_csv(filepath, index_col='Date', parse_dates=True)\n",
    "    name = X['Name'][0]\n",
    "    del X['Name']\n",
    "    cols = X.columns\n",
    "    # X['Target'] = (X['Close'].pct_change().shift(-1) > 0).astype(int)\n",
    "    X['Target'] = np.log(X['Close']).diff().shift(-1)\n",
    "    X.dropna(inplace=True)\n",
    "    # \n",
    "    index = X.index[X.index > TRAIN_TEST_CUTOFF]    \n",
    "    index = index[:int(len(index) * TRAIN_VALID_RATIO)]\n",
    "    scaler = StandardScaler().fit(X.loc[index, cols])\n",
    "    X[cols] = scaler.transform(X[cols])\n",
    "    data[name] = X\n",
    "    \n",
    "def datagen(data, seq_len, batch_size, targetcol, kind):\n",
    "    \"\"\"\n",
    "    Args:\n",
    "    - data: input data\n",
    "    - seq_len: sequence length\n",
    "    - batch_size: batch size\n",
    "    - targetcol: target column(y)\n",
    "    - kind: 'train' or 'valid'\n",
    "    \"\"\"\n",
    "    batch = []\n",
    "    while True:\n",
    "        key = random.choice(list(data.keys()))\n",
    "        df = data[key]\n",
    "        input_cols = [c for c in df.columns if c != targetcol]\n",
    "        index = df.index[df.index < TRAIN_TEST_CUTOFF]\n",
    "        split = int(len(index) * TRAIN_VALID_RATIO)\n",
    "        if kind == 'train':\n",
    "            index = index[:split]\n",
    "        elif kind == 'valid':\n",
    "            index = index[split:]\n",
    "        \n",
    "        while True:\n",
    "            t = random.choice(index)\n",
    "            n = (df.index == t).argmax()\n",
    "            if n-seq_len+1 < 0:\n",
    "                continue\n",
    "            frame = df.iloc[n-seq_len+1:n+1]\n",
    "            batch.append([frame[input_cols].values, df.loc[t, targetcol]])\n",
    "            break\n",
    "        \n",
    "        if len(batch) == batch_size:\n",
    "            X, y = zip(*batch)\n",
    "            X, y = np.expand_dims(np.array(X), 3), np.array(y)\n",
    "            yield X, y\n",
    "            batch = []\n"
   ]
  },
  {
   "cell_type": "code",
   "execution_count": 359,
   "metadata": {},
   "outputs": [
    {
     "data": {
      "text/plain": [
       "(1, 60, 82)"
      ]
     },
     "execution_count": 359,
     "metadata": {},
     "output_type": "execute_result"
    }
   ],
   "source": [
    "from torch.utils.data import Dataset, DataLoader\n",
    "from sklearn.model_selection import train_test_split\n",
    "\n",
    "class MyDataset(Dataset):\n",
    "    \n",
    "    def __init__(self, data, seq_len, target, kind, test_size = 0.2):\n",
    "        self.seq_len = seq_len\n",
    "        self.target = target\n",
    "        self.kind = kind\n",
    "        \n",
    "        self.data = {}\n",
    "        keys = data.keys()\n",
    "        for key in keys:\n",
    "            df = data[key]\n",
    "            train, valid = train_test_split(df.dropna(), test_size=test_size, shuffle=False)\n",
    "            if kind == 'train':\n",
    "                self.data[key] = train\n",
    "            elif kind == 'test':\n",
    "                self.data[key] = valid\n",
    "        \n",
    "    def __getitem__(self, idx: int):\n",
    "        key = random.choice(list(self.data.keys()))\n",
    "        df = data[key]\n",
    "        t = df.index[idx+self.seq_len]\n",
    "        X = df.iloc[idx:idx+self.seq_len].drop(self.target, axis=1).values\n",
    "        y = df.loc[t, self.target]\n",
    "        return np.expand_dims(X, axis=0), y\n",
    "    \n",
    "    def __len__(self):\n",
    "        key = next(iter(self.data.keys()))\n",
    "        df = self.data[key][self.target]\n",
    "        return df.shape[0] - self.seq_len + 1\n",
    "    \n",
    "dataset = MyDataset(data, seq_len=60, target='Target', kind='train')\n",
    "dataset[0][0].shape"
   ]
  },
  {
   "cell_type": "code",
   "execution_count": 351,
   "metadata": {},
   "outputs": [],
   "source": [
    "import torch\n",
    "import torch.nn as nn\n",
    "import torch.optim as optimizers\n",
    "\n",
    "def calc_oupput_dim(seq_len):\n",
    "    seq_len = seq_len - 1 + 1\n",
    "    seq_len = int((seq_len - 3 + 1) / 2)\n",
    "    return int((seq_len - 3 + 1) / 2)\n",
    "\n",
    "class CNN(nn.Module):\n",
    "    \n",
    "    def __init__(\n",
    "        self, \n",
    "        seq_len = 60,\n",
    "        n_features: int = 82,\n",
    "        n_filters: List[Tuple[int,int]] = [1, 8, 8, 8], # (in, out)\n",
    "        droprate = 0.1,\n",
    "    ):\n",
    "        super().__init__()\n",
    "        n_cnn_output = calc_oupput_dim(seq_len) * n_filters[-1]\n",
    "        self.l1 = nn.Conv2d(n_filters[0], n_filters[1], kernel_size=(1, n_features))\n",
    "        self.a1 = nn.ReLU()\n",
    "        self.l2 = nn.Conv2d(n_filters[1], n_filters[2], kernel_size=(3, 1))\n",
    "        self.a2 = nn.ReLU()\n",
    "        self.mp2 = nn.MaxPool2d((2,1))\n",
    "        self.l3 = nn.Conv2d(n_filters[2], n_filters[3], kernel_size=(3, 1))\n",
    "        self.a3 = nn.ReLU()\n",
    "        self.mp3 = nn.MaxPool2d((2,1))\n",
    "        self.f3 = nn.Flatten()\n",
    "        self.d3 = nn.Dropout(droprate)\n",
    "        self.l4 = nn.Linear(n_cnn_output, 1)\n",
    "        \n",
    "        self.layers = [\n",
    "            self.l1, self.a1,\n",
    "            self.l2, self.a2, self.mp2,\n",
    "            self.l3, self.a3, self.mp3,\n",
    "            self.f3, self.d3, self.l4,\n",
    "        ]\n",
    "        \n",
    "    def __call__(self, x):\n",
    "        for layer in self.layers:\n",
    "            x = layer(x)\n",
    "            # print(x.shape)\n",
    "        return x\n",
    "    \n"
   ]
  },
  {
   "cell_type": "code",
   "execution_count": 363,
   "metadata": {},
   "outputs": [],
   "source": [
    "# create dataset\n",
    "train_dataset = MyDataset(data, seq_len=60, target='Target', kind='train')\n",
    "train_dataloader = DataLoader(train_dataset, batch_size=128)\n",
    "\n",
    "test_dataset = MyDataset(data, seq_len=60, target='Target', kind='test')\n",
    "test_dataloader = DataLoader(test_dataset, batch_size=128, shuffle=False)"
   ]
  },
  {
   "cell_type": "code",
   "execution_count": 358,
   "metadata": {},
   "outputs": [
    {
     "name": "stdout",
     "output_type": "stream",
     "text": [
      "epoch: 0, train loss: 0.0573\n",
      "epoch: 1, train loss: 0.0188\n",
      "epoch: 2, train loss: 0.0192\n",
      "epoch: 3, train loss: 0.0152\n",
      "epoch: 4, train loss: 0.0111\n",
      "epoch: 5, train loss: 0.00897\n",
      "epoch: 6, train loss: 0.00835\n",
      "epoch: 7, train loss: 0.00767\n",
      "epoch: 8, train loss: 0.00794\n",
      "epoch: 9, train loss: 0.00779\n",
      "epoch: 10, train loss: 0.00782\n",
      "epoch: 11, train loss: 0.00768\n",
      "epoch: 12, train loss: 0.00767\n",
      "epoch: 13, train loss: 0.00765\n",
      "epoch: 14, train loss: 0.00779\n",
      "epoch: 15, train loss: 0.00766\n",
      "epoch: 16, train loss: 0.00776\n",
      "epoch: 17, train loss: 0.00762\n",
      "epoch: 18, train loss: 0.00767\n",
      "epoch: 19, train loss: 0.00772\n"
     ]
    },
    {
     "data": {
      "text/plain": [
       "[<matplotlib.lines.Line2D at 0x17bf101f0>]"
      ]
     },
     "execution_count": 358,
     "metadata": {},
     "output_type": "execute_result"
    },
    {
     "data": {
      "image/png": "[encoded data removed]",
      "text/plain": [
       "<Figure size 640x480 with 1 Axes>"
      ]
     },
     "metadata": {},
     "output_type": "display_data"
    }
   ],
   "source": [
    "np.random.seed(123)\n",
    "torch.manual_seed(123)\n",
    "device = torch.device('cpu')\n",
    "\n",
    "seq_len = 60\n",
    "batch_size = 64\n",
    "n_epochs = 20\n",
    "n_features = 82\n",
    "\n",
    "model = CNN(seq_len, n_features)\n",
    "criterion = nn.L1Loss()\n",
    "optimizer = optimizers.Adam(\n",
    "    model.parameters(),\n",
    "    lr = 0.005,\n",
    ")\n",
    "\n",
    "def compute_loss(y, yhat):\n",
    "    return criterion(yhat, y)\n",
    "\n",
    "def train_step(x, y):\n",
    "    model.train()\n",
    "    yhat = model(x)\n",
    "    loss = compute_loss(y, yhat.reshape(-1))\n",
    "    optimizer.zero_grad()\n",
    "    loss.backward()\n",
    "    optimizer.step()\n",
    "    return loss\n",
    "\n",
    "\n",
    "history = {'train_loss': []}\n",
    "epochs = 20\n",
    "for epoch in range(epochs):\n",
    "    train_loss = 0.\n",
    "    for x, y in train_dataloader:\n",
    "        x = torch.Tensor(x).type(torch.float32).to(device)\n",
    "        y = torch.Tensor(y).type(torch.float32).to(device)\n",
    "        loss = train_step(x, y)\n",
    "        train_loss += loss.item()\n",
    "    \n",
    "    train_loss /= len(train_dataloader)\n",
    "    print('epoch: {}, train loss: {:.3}'.format(epoch, train_loss))\n",
    "    history['train_loss'].append(train_loss)\n",
    "\n",
    "y = history['train_loss']\n",
    "x = np.arange(epochs)[:len(y)]\n",
    "plt.plot(x, y)"
   ]
  },
  {
   "cell_type": "code",
   "execution_count": 456,
   "metadata": {},
   "outputs": [
    {
     "name": "stdout",
     "output_type": "stream",
     "text": [
      "cnn2d precision score: 0.5605095541401274\n",
      "randonm precision score: 0.5443037974683544\n"
     ]
    }
   ],
   "source": [
    "def predict(x: torch.Tensor):\n",
    "    model.eval()\n",
    "    return model(x)\n",
    "\n",
    "ys = []\n",
    "ypreds = []\n",
    "for X, y in test_dataloader:\n",
    "    X = X.type(torch.float32).to(device)\n",
    "    ypred = predict(X)\n",
    "    ys.append(y)\n",
    "    ypreds.append(ypred)\n",
    "    \n",
    "ys = torch.cat(ys)\n",
    "ypreds = torch.cat(ypreds)\n",
    "\n",
    "print('cnn2d precision score: {}'.format(precision_score(ys > 0, ypreds > 0)))\n",
    "print('randonm precision score: {}'.format(precision_score(ys > 0, torch.randn(ys.shape) > 0)))"
   ]
  },
  {
   "cell_type": "code",
   "execution_count": null,
   "metadata": {},
   "outputs": [],
   "source": []
  }
 ],
 "metadata": {
  "kernelspec": {
   "display_name": "Python 3",
   "language": "python",
   "name": "python3"
  },
  "language_info": {
   "codemirror_mode": {
    "name": "ipython",
    "version": 3
   },
   "file_extension": ".py",
   "mimetype": "text/x-python",
   "name": "python",
   "nbconvert_exporter": "python",
   "pygments_lexer": "ipython3",
   "version": "3.10.6"
  }
 },
 "nbformat": 4,
 "nbformat_minor": 2
}
