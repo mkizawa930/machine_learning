{
 "cells": [
  {
   "cell_type": "code",
   "execution_count": 250,
   "metadata": {},
   "outputs": [
    {
     "data": {
      "text/plain": [
       "<module 'utils' from '/Users/kizawamasakazu/projects/machine_learning/work/time_series/stock_price_prediction/n225/utils.py'>"
      ]
     },
     "execution_count": 250,
     "metadata": {},
     "output_type": "execute_result"
    }
   ],
   "source": [
    "import numpy as np\n",
    "import pandas as pd\n",
    "from importlib import reload\n",
    "from pylab import plt\n",
    "from sklearn.preprocessing import PowerTransformer\n",
    "\n",
    "import utils; reload(utils)"
   ]
  },
  {
   "cell_type": "code",
   "execution_count": 232,
   "metadata": {},
   "outputs": [],
   "source": [
    "# データを準備\n",
    "df = pd.read_csv('N225.csv')\n",
    "df['log_return'] = np.log(df['Close']).diff()\n",
    "# df['log_return'] = df['log_return'] / df['log_return'].rolling(30).std()\n",
    "df['y'] = df['log_return'].shift(-1)\n",
    "df.reset_index(inplace=True)"
   ]
  },
  {
   "cell_type": "code",
   "execution_count": 241,
   "metadata": {},
   "outputs": [
    {
     "name": "stdout",
     "output_type": "stream",
     "text": [
      "(14432, 1, 60)\n"
     ]
    }
   ],
   "source": [
    "import torch\n",
    "import torch.nn as nn\n",
    "import torch.optim as optimizers\n",
    "from torch.utils.data import Dataset, DataLoader\n",
    "from sklearn.model_selection import train_test_split\n",
    "\n",
    "class MyDataset(Dataset):\n",
    "    \n",
    "    def __init__(self, X, y):\n",
    "        assert X.shape[0] == y.shape[0]\n",
    "        X = torch.tensor(X, dtype=torch.float32)\n",
    "        y = torch.tensor(y, dtype=torch.float32)\n",
    "        self.X = X\n",
    "        self.y = y\n",
    "        \n",
    "    def __len__(self):\n",
    "        return self.X.shape[0]\n",
    "    \n",
    "    def __getitem__(self, idx):\n",
    "        return self.X[idx], self.y[idx]\n",
    "    \n",
    "\n",
    "seqlen = 60\n",
    "Xs, ys = [], []\n",
    "df = df.dropna()\n",
    "X = df['log_return'].values\n",
    "y = df['y'].values\n",
    "for i in range(X.shape[0]-seqlen+1):\n",
    "    Xs.append(X[i:i+seqlen].reshape(1, -1))\n",
    "    ys.append(y[i+seqlen-1])\n",
    "\n",
    "Xs = np.stack(Xs)\n",
    "ys = np.stack(ys)\n",
    "print(Xs.shape)\n",
    "\n",
    "train_val_X, test_X, train_val_y, test_y = train_test_split(Xs, ys, test_size=0.2, shuffle=False)\n",
    "train_X, val_X, train_y, val_y = train_test_split(train_val_X, train_val_y, test_size=0.2, shuffle=False)\n",
    "\n",
    "train_dataset = MyDataset(train_X, train_y)\n",
    "val_dataset = MyDataset(val_X, val_y)\n",
    "\n",
    "class CNN1d(nn.Module):\n",
    "    \n",
    "    def __init__(self, seqlen, n_filters = 64):\n",
    "        super().__init__()\n",
    "        cnn_output_size = int((int((seqlen - 10 + 1) / 2) - 5 + 1) / 2) * n_filters\n",
    "        self.l1 = nn.Conv1d(1, n_filters, kernel_size=10)\n",
    "        self.m1 = nn.MaxPool1d(kernel_size=2)\n",
    "        self.a1 = nn.ReLU()\n",
    "        self.l2 = nn.Conv1d(n_filters, n_filters, kernel_size=5)\n",
    "        self.m2 = nn.MaxPool1d(kernel_size=2)\n",
    "        self.a2 = nn.ReLU()\n",
    "        self.f2 = nn.Flatten()\n",
    "        self.l3 = nn.Linear(cnn_output_size, 1)\n",
    "    \n",
    "    def forward(self, x):\n",
    "        x = self.l1(x)\n",
    "        x = self.m1(x)\n",
    "        x = self.a1(x)\n",
    "        x = self.l2(x)\n",
    "        x = self.m2(x)\n",
    "        x = self.a2(x)\n",
    "        x = self.f2(x)\n",
    "        x = self.l3(x)\n",
    "        return x\n",
    "    \n",
    "# test\n",
    "model = CNN1d(seqlen=60)"
   ]
  },
  {
   "cell_type": "code",
   "execution_count": 234,
   "metadata": {},
   "outputs": [
    {
     "data": {
      "text/plain": [
       "torch.Size([])"
      ]
     },
     "execution_count": 234,
     "metadata": {},
     "output_type": "execute_result"
    }
   ],
   "source": [
    "train_dataset[0][1].shape"
   ]
  },
  {
   "cell_type": "code",
   "execution_count": 248,
   "metadata": {},
   "outputs": [
    {
     "name": "stdout",
     "output_type": "stream",
     "text": [
      "epoch: 0, train loss: 0.008840788467305488\n",
      "epoch: 1, train loss: 0.008158737133610351\n",
      "epoch: 2, train loss: 0.008030212771725552\n",
      "epoch: 3, train loss: 0.008094831267050628\n",
      "epoch: 4, train loss: 0.008174248298244743\n",
      "epoch: 5, train loss: 0.008101639315357496\n",
      "epoch: 6, train loss: 0.008051190324577278\n",
      "epoch: 7, train loss: 0.008045929877472848\n",
      "epoch: 8, train loss: 0.008018700214873614\n",
      "epoch: 9, train loss: 0.00799911745727576\n"
     ]
    }
   ],
   "source": [
    "epochs = 10\n",
    "\n",
    "model = CNN1d(seqlen=60)\n",
    "criterion = nn.L1Loss()\n",
    "optimizer = optimizers.Adam(model.parameters(), lr=0.0005)\n",
    "train_dataloader = DataLoader(train_dataset, batch_size=64)\n",
    "\n",
    "def compute_loss(y, yhat):\n",
    "    return criterion(yhat, y)\n",
    "\n",
    "def train_step(x, y):\n",
    "    model.train()\n",
    "    yhat = model(x)\n",
    "    loss = criterion(y, yhat)\n",
    "    optimizer.zero_grad()\n",
    "    loss.backward()\n",
    "    optimizer.step()\n",
    "    return yhat, loss\n",
    "    \n",
    "\n",
    "for epoch in range(epochs):\n",
    "    train_loss = 0.0\n",
    "    for x, y in train_dataloader:\n",
    "        _, loss = train_step(x, y)\n",
    "        train_loss += loss.item()\n",
    "    train_loss /= len(train_dataloader)\n",
    "    print(f'epoch: {epoch}, train loss: {train_loss}')"
   ]
  },
  {
   "cell_type": "code",
   "execution_count": 246,
   "metadata": {},
   "outputs": [
    {
     "name": "stderr",
     "output_type": "stream",
     "text": [
      "/var/folders/sv/k4676nzx20ndpwkjt51ctv380000gn/T/ipykernel_29120/3073272558.py:9: UserWarning: nn.init.orthogonal is now deprecated in favor of nn.init.orthogonal_.\n",
      "  nn.init.orthogonal(self.l1.weight_hh_l0)\n"
     ]
    },
    {
     "data": {
      "text/plain": [
       "tensor([[-0.0623],\n",
       "        [-0.0794],\n",
       "        [-0.0690],\n",
       "        [-0.0825],\n",
       "        [-0.0684],\n",
       "        [-0.0736],\n",
       "        [-0.0769],\n",
       "        [-0.0812],\n",
       "        [-0.0777],\n",
       "        [-0.0688]], grad_fn=<AddmmBackward0>)"
      ]
     },
     "execution_count": 246,
     "metadata": {},
     "output_type": "execute_result"
    }
   ],
   "source": [
    "class LSTM(nn.Module):\n",
    "    \n",
    "    def __init__(self, input_size, hidden_size, output_size=1, num_layers=1):\n",
    "        super().__init__()\n",
    "        self.l1 = nn.LSTM(input_size=input_size, hidden_size=hidden_size, num_layers=num_layers, batch_first=True)\n",
    "        self.l2 = nn.Linear(hidden_size, output_size)\n",
    "        \n",
    "        nn.init.xavier_normal_(self.l1.weight_ih_l0)\n",
    "        nn.init.orthogonal(self.l1.weight_hh_l0)\n",
    "        \n",
    "    def forward(self, x):\n",
    "        h, _ = self.l1(x)\n",
    "        y = self.l2(h[:,-1])\n",
    "        return y\n",
    "\n",
    "model = LSTM(input_size=1, hidden_size=64)\n",
    "model(torch.randn(10, 60, 1))"
   ]
  },
  {
   "cell_type": "code",
   "execution_count": 249,
   "metadata": {},
   "outputs": [
    {
     "name": "stderr",
     "output_type": "stream",
     "text": [
      "/var/folders/sv/k4676nzx20ndpwkjt51ctv380000gn/T/ipykernel_29120/3073272558.py:9: UserWarning: nn.init.orthogonal is now deprecated in favor of nn.init.orthogonal_.\n",
      "  nn.init.orthogonal(self.l1.weight_hh_l0)\n"
     ]
    },
    {
     "name": "stdout",
     "output_type": "stream",
     "text": [
      "epoch: 0, train loss: 0.009009669745212485\n",
      "epoch: 1, train loss: 0.008086812444801987\n",
      "epoch: 2, train loss: 0.008154587441220365\n",
      "epoch: 3, train loss: 0.008126327824168679\n",
      "epoch: 4, train loss: 0.008100073106972309\n",
      "epoch: 5, train loss: 0.00813271560192365\n",
      "epoch: 6, train loss: 0.008112433904396563\n",
      "epoch: 7, train loss: 0.008062213012177882\n",
      "epoch: 8, train loss: 0.008053070844697027\n",
      "epoch: 9, train loss: 0.00803957673688901\n"
     ]
    }
   ],
   "source": [
    "epochs = 10\n",
    "\n",
    "model = LSTM(input_size=1, hidden_size=64, output_size=1)\n",
    "\n",
    "criterion = nn.L1Loss()\n",
    "optimizer = optimizers.Adam(model.parameters(), lr=0.001)\n",
    "train_dataloader = DataLoader(train_dataset, batch_size=64)\n",
    "\n",
    "def compute_loss(y, yhat):\n",
    "    return criterion(yhat, y)\n",
    "\n",
    "def train_step(x, y):\n",
    "    model.train()\n",
    "    yhat = model(x)\n",
    "    loss = criterion(y, yhat)\n",
    "    optimizer.zero_grad()\n",
    "    loss.backward()\n",
    "    optimizer.step()\n",
    "    return yhat, loss\n",
    "    \n",
    "\n",
    "for epoch in range(epochs):\n",
    "    train_loss = 0.0\n",
    "    for x, y in train_dataloader:\n",
    "        x = x.permute(0, 2, 1) # seq, inp, chanに並べ替え\n",
    "        _, loss = train_step(x, y)\n",
    "        train_loss += loss.item()\n",
    "    train_loss /= len(train_dataloader)\n",
    "    print(f'epoch: {epoch}, train loss: {train_loss}')"
   ]
  },
  {
   "cell_type": "code",
   "execution_count": null,
   "metadata": {},
   "outputs": [],
   "source": []
  }
 ],
 "metadata": {
  "kernelspec": {
   "display_name": "Python 3",
   "language": "python",
   "name": "python3"
  },
  "language_info": {
   "codemirror_mode": {
    "name": "ipython",
    "version": 3
   },
   "file_extension": ".py",
   "mimetype": "text/x-python",
   "name": "python",
   "nbconvert_exporter": "python",
   "pygments_lexer": "ipython3",
   "version": "3.9.16"
  }
 },
 "nbformat": 4,
 "nbformat_minor": 2
}
